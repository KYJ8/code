{
 "cells": [
  {
   "attachments": {},
   "cell_type": "markdown",
   "metadata": {},
   "source": [
    "# 필요 패키지"
   ]
  },
  {
   "cell_type": "code",
   "execution_count": 53,
   "metadata": {},
   "outputs": [],
   "source": [
    "# 필요 패키지\n",
    "import pandas as pd\n",
    "import numpy as np\n",
    "import re"
   ]
  },
  {
   "attachments": {},
   "cell_type": "markdown",
   "metadata": {},
   "source": [
    "# 데이터 불러오기"
   ]
  },
  {
   "cell_type": "code",
   "execution_count": null,
   "metadata": {},
   "outputs": [],
   "source": [
    "# 데이터 불러오기\n",
    "df = pd.read_csv('데이터셋 경로 작성', sep=',', encoding='utf-8', index_col=0)\n",
    "df.head()"
   ]
  },
  {
   "attachments": {},
   "cell_type": "markdown",
   "metadata": {},
   "source": [
    "# 해시태그 추출"
   ]
  },
  {
   "cell_type": "code",
   "execution_count": 55,
   "metadata": {},
   "outputs": [],
   "source": [
    "# 해시태그 추출\n",
    "hashtag_regex = \"#([0-9a-zA-Z가-힣]*)\"\n",
    "p = re.compile(hashtag_regex)\n",
    "df[\"hash_tag\"] = df[\"content_text\"].apply(lambda x : p.findall(str(x)))\n",
    "# 해시태그 수 세기\n",
    "df['hash_tag_num'] = df['hash_tag'].apply(lambda x : len(x))"
   ]
  },
  {
   "attachments": {},
   "cell_type": "markdown",
   "metadata": {},
   "source": [
    "# mention 추출"
   ]
  },
  {
   "cell_type": "code",
   "execution_count": 56,
   "metadata": {},
   "outputs": [],
   "source": [
    "# mention 추출\n",
    "mention_regex = \"@([0-9a-zA-Z가-힣_.]*)\"\n",
    "p = re.compile(mention_regex)\n",
    "df['mention_name'] = df[\"reply\"].apply(lambda x : p.findall(str(x)))\n",
    "# mention 수 세기\n",
    "df['mention'] = df['mention_name'].apply(lambda x : len(x))"
   ]
  },
  {
   "attachments": {},
   "cell_type": "markdown",
   "metadata": {},
   "source": [
    "# 광고글 판단"
   ]
  },
  {
   "attachments": {},
   "cell_type": "markdown",
   "metadata": {},
   "source": [
    "## 광고글 판단 함수"
   ]
  },
  {
   "cell_type": "code",
   "execution_count": 57,
   "metadata": {},
   "outputs": [],
   "source": [
    "# 광고글인지 판단하는 함수\n",
    "def chk_adv(main_txt):\n",
    "    temp = 0\n",
    "    promo_word = ['광고', '협찬', '제품제공', 'AD', 'GIFTED', '제공', '제품협찬', '유료광고', '상업광고', '금전적']\n",
    "    for w in promo_word:\n",
    "        if w in main_txt:\n",
    "            temp = 1\n",
    "        if temp ==1:\n",
    "            break\n",
    "    return temp"
   ]
  },
  {
   "attachments": {},
   "cell_type": "markdown",
   "metadata": {},
   "source": [
    "# 전처리 함수"
   ]
  },
  {
   "cell_type": "code",
   "execution_count": 58,
   "metadata": {},
   "outputs": [],
   "source": [
    "# 전처리 함수(글자, 영어, 숫자만 남기기)\n",
    "def text_preprocessor(s):\n",
    "    import re\n",
    "    \n",
    "    ## (1) [], (), {}, <> 괄호 제거\n",
    "    s = str(s).replace('(', ' ')\n",
    "    s = str(s).replace(')', ' ')\n",
    "    s = str(s).replace('[', ' ')\n",
    "    s = str(s).replace(']', ' ')\n",
    "    s = str(s).replace('<', ' ')\n",
    "    s = str(s).replace('>', ' ')\n",
    "    s = str(s).replace('{', ' ')\n",
    "    s = str(s).replace('}', ' ')\n",
    "\n",
    "\n",
    "    hashtag_regex = \"#([0-9a-zA-Z가-힣_.]*)\"\n",
    "    s = re.sub(pattern=hashtag_regex, repl='', string=s)\n",
    "    \n",
    "    call_regex = \"@([0-9a-zA-Z가-힣_.]*)\"\n",
    "    s = re.sub(pattern=call_regex, repl='', string=s)\n",
    "\n",
    "\n",
    "    ## (2) '...외', '...총' 제거하기\n",
    "    s = s.replace('...외', ' ')\n",
    "    s = s.replace('...총', ' ')\n",
    "    \n",
    "    ## (3) 특수문자 제거\n",
    "    pattern = r'[^a-zA-Z가-힣]'\n",
    "    s = re.sub(pattern=pattern, repl=' ', string=s)\n",
    "    \n",
    "    ## (4) 단위 제거: cm, km, etc.\n",
    "    units = ['mm', 'cm', 'km', 'ml', 'kg', 'g']\n",
    "    for unit in units:\n",
    "        s = s.lower() # 대문자를 소문자로 변환\n",
    "        s = s.replace(unit, '')\n",
    "        \n",
    "    # (5) 공백 지워서 한줄로 합치기\n",
    "    s = s.replace(' ', '')\n",
    "    \n",
    "    \n",
    "\n",
    "\n",
    "    return s"
   ]
  },
  {
   "attachments": {},
   "cell_type": "markdown",
   "metadata": {},
   "source": [
    "## 게시글 전처리"
   ]
  },
  {
   "attachments": {},
   "cell_type": "markdown",
   "metadata": {},
   "source": [
    "### 게시글 전처리함수 적용 (필요시 사용)"
   ]
  },
  {
   "cell_type": "code",
   "execution_count": 59,
   "metadata": {},
   "outputs": [],
   "source": [
    "# 게시글 전처리함수 적용\n",
    "df['pre_content'] = df['content_text'].apply(lambda s: text_preprocessor(s))"
   ]
  },
  {
   "attachments": {},
   "cell_type": "markdown",
   "metadata": {},
   "source": [
    "### 게시글 대문자화 (브랜드명 추출할 때 사용하기 위해)"
   ]
  },
  {
   "cell_type": "code",
   "execution_count": 60,
   "metadata": {},
   "outputs": [],
   "source": [
    "df['pre_content'] = df.loc[:, 'pre_content'].apply(lambda x: x.upper())"
   ]
  },
  {
   "attachments": {},
   "cell_type": "markdown",
   "metadata": {},
   "source": [
    "### 해시태그 대문자화"
   ]
  },
  {
   "cell_type": "code",
   "execution_count": 61,
   "metadata": {},
   "outputs": [],
   "source": [
    "df['hash_tag'] = df.loc[:,'hash_tag'].apply(lambda x : str(x).upper())"
   ]
  },
  {
   "attachments": {},
   "cell_type": "markdown",
   "metadata": {},
   "source": [
    "## 광고글 체크 함수 적용"
   ]
  },
  {
   "cell_type": "code",
   "execution_count": 62,
   "metadata": {},
   "outputs": [],
   "source": [
    "df[\"promotion\"] = df[\"pre_content\"].apply(lambda x : chk_adv(str(x)))"
   ]
  },
  {
   "attachments": {},
   "cell_type": "markdown",
   "metadata": {},
   "source": [
    "## 광고글만 따로 df"
   ]
  },
  {
   "cell_type": "code",
   "execution_count": 63,
   "metadata": {},
   "outputs": [],
   "source": [
    "# 광고글만 따로 df 만들기\n",
    "df_pro = df[df['promotion']==1]"
   ]
  },
  {
   "attachments": {},
   "cell_type": "markdown",
   "metadata": {},
   "source": [
    "## 일상글만 따로 df"
   ]
  },
  {
   "cell_type": "code",
   "execution_count": null,
   "metadata": {},
   "outputs": [],
   "source": [
    "# 일상글만 따로 df 만들기\n",
    "df_norm = df[df['promotion']==0]"
   ]
  },
  {
   "attachments": {},
   "cell_type": "markdown",
   "metadata": {},
   "source": [
    "## 댓글 전처리"
   ]
  },
  {
   "attachments": {},
   "cell_type": "markdown",
   "metadata": {},
   "source": [
    "### 댓글 전처리함수 적용"
   ]
  },
  {
   "cell_type": "code",
   "execution_count": 64,
   "metadata": {},
   "outputs": [
    {
     "name": "stderr",
     "output_type": "stream",
     "text": [
      "/var/folders/kl/cdc24_t10v95bx7k95vy_n_40000gn/T/ipykernel_50932/3307771747.py:2: SettingWithCopyWarning: \n",
      "A value is trying to be set on a copy of a slice from a DataFrame.\n",
      "Try using .loc[row_indexer,col_indexer] = value instead\n",
      "\n",
      "See the caveats in the documentation: https://pandas.pydata.org/pandas-docs/stable/user_guide/indexing.html#returning-a-view-versus-a-copy\n",
      "  df_pro['pre_reply'] = df_pro['reply'].apply(lambda s: text_preprocessor(s))\n"
     ]
    }
   ],
   "source": [
    "# 댓글 전처리함수 적용\n",
    "df_pro['pre_reply'] = df_pro['reply'].apply(lambda s: text_preprocessor(s))"
   ]
  },
  {
   "attachments": {},
   "cell_type": "markdown",
   "metadata": {},
   "source": [
    "### 댓글 대문자화"
   ]
  },
  {
   "cell_type": "code",
   "execution_count": 65,
   "metadata": {},
   "outputs": [
    {
     "name": "stderr",
     "output_type": "stream",
     "text": [
      "/var/folders/kl/cdc24_t10v95bx7k95vy_n_40000gn/T/ipykernel_50932/3428017239.py:2: SettingWithCopyWarning: \n",
      "A value is trying to be set on a copy of a slice from a DataFrame.\n",
      "Try using .loc[row_indexer,col_indexer] = value instead\n",
      "\n",
      "See the caveats in the documentation: https://pandas.pydata.org/pandas-docs/stable/user_guide/indexing.html#returning-a-view-versus-a-copy\n",
      "  df_pro['pre_reply'] = df_pro.loc[:, 'pre_reply'].apply(lambda x: x.upper())\n"
     ]
    }
   ],
   "source": [
    "# 전처리된 'reply' 대문자화\n",
    "df_pro['pre_reply'] = df_pro.loc[:, 'pre_reply'].apply(lambda x: x.upper())"
   ]
  },
  {
   "attachments": {},
   "cell_type": "markdown",
   "metadata": {},
   "source": [
    "## 한글 포함 여부 체크 함수"
   ]
  },
  {
   "cell_type": "code",
   "execution_count": 66,
   "metadata": {},
   "outputs": [],
   "source": [
    "# 한글 포함 여부 체크 함수\n",
    "def isKorean(text):\n",
    "    hangul = re.compile('[\\u3131-\\u3163\\uac00-\\ud7a3]+')  \n",
    "    result = hangul.findall(text)\n",
    "    if len(result) > 0:\n",
    "        # 한글이 있다면 True 반환\n",
    "        return True\n",
    "    else:\n",
    "        # 한글이 없다면 False 반환\n",
    "        return False"
   ]
  },
  {
   "attachments": {},
   "cell_type": "markdown",
   "metadata": {},
   "source": [
    "### 전처리된 댓글에 한글 포함 여부 체크"
   ]
  },
  {
   "cell_type": "code",
   "execution_count": 67,
   "metadata": {},
   "outputs": [
    {
     "name": "stderr",
     "output_type": "stream",
     "text": [
      "/var/folders/kl/cdc24_t10v95bx7k95vy_n_40000gn/T/ipykernel_50932/118098914.py:2: SettingWithCopyWarning: \n",
      "A value is trying to be set on a copy of a slice from a DataFrame.\n",
      "Try using .loc[row_indexer,col_indexer] = value instead\n",
      "\n",
      "See the caveats in the documentation: https://pandas.pydata.org/pandas-docs/stable/user_guide/indexing.html#returning-a-view-versus-a-copy\n",
      "  df_pro['hangul_exist'] = df_pro['pre_reply'].apply(lambda s: isKorean(s))\n"
     ]
    }
   ],
   "source": [
    "# 전처리된 'reply'에 한글 포함 여부 체크 함수 적용\n",
    "df_pro['hangul_exist'] = df_pro['pre_reply'].apply(lambda s: isKorean(s))"
   ]
  },
  {
   "attachments": {},
   "cell_type": "markdown",
   "metadata": {},
   "source": [
    "# 댓글에 한글이 없거나 글이 없는 경우 drop"
   ]
  },
  {
   "cell_type": "code",
   "execution_count": 68,
   "metadata": {},
   "outputs": [],
   "source": [
    "df_pro = df_pro[df_pro['hangul_exist'] == True]"
   ]
  },
  {
   "cell_type": "code",
   "execution_count": null,
   "metadata": {},
   "outputs": [],
   "source": [
    "df_pro"
   ]
  }
 ],
 "metadata": {
  "kernelspec": {
   "display_name": "team_pj",
   "language": "python",
   "name": "python3"
  },
  "language_info": {
   "codemirror_mode": {
    "name": "ipython",
    "version": 3
   },
   "file_extension": ".py",
   "mimetype": "text/x-python",
   "name": "python",
   "nbconvert_exporter": "python",
   "pygments_lexer": "ipython3",
   "version": "3.9.16"
  },
  "orig_nbformat": 4
 },
 "nbformat": 4,
 "nbformat_minor": 2
}
